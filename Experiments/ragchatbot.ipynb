{
 "cells": [
  {
   "cell_type": "markdown",
   "metadata": {},
   "source": [
    "# Import Libararies"
   ]
  },
  {
   "cell_type": "code",
   "execution_count": 29,
   "metadata": {},
   "outputs": [],
   "source": [
    "import os\n",
    "from dotenv import load_dotenv\n",
    "from langchain_openai import OpenAI , ChatOpenAI , OpenAIEmbeddings\n",
    "from langchain.prompts import ChatPromptTemplate , MessagesPlaceholder\n",
    "from langchain_core.output_parsers import StrOutputParser\n",
    "from langchain_community.document_loaders import WebBaseLoader\n",
    "from langchain_community.vectorstores import FAISS\n",
    "from langchain.text_splitter import RecursiveCharacterTextSplitter\n",
    "from langchain.chains.combine_documents import create_stuff_documents_chain\n",
    "from langchain_core.documents import Document\n",
    "from langchain.chains import create_retrieval_chain , create_history_aware_retriever\n",
    "from langchain_core.messages import HumanMessage , AIMessage"
   ]
  },
  {
   "cell_type": "code",
   "execution_count": 2,
   "metadata": {},
   "outputs": [
    {
     "data": {
      "text/plain": [
       "True"
      ]
     },
     "execution_count": 2,
     "metadata": {},
     "output_type": "execute_result"
    }
   ],
   "source": [
    "load_dotenv()"
   ]
  },
  {
   "cell_type": "markdown",
   "metadata": {},
   "source": [
    "## Intialize OpenAI"
   ]
  },
  {
   "cell_type": "code",
   "execution_count": 3,
   "metadata": {},
   "outputs": [],
   "source": [
    "OPENAI_API_KEY = os.getenv(\"OPENAI_API_KEY\")"
   ]
  },
  {
   "cell_type": "code",
   "execution_count": 4,
   "metadata": {},
   "outputs": [],
   "source": [
    "llm = ChatOpenAI(api_key=OPENAI_API_KEY)"
   ]
  },
  {
   "cell_type": "code",
   "execution_count": 5,
   "metadata": {},
   "outputs": [],
   "source": [
    "prompt = ChatPromptTemplate.from_messages([\n",
    "    (\"system\",\"You are a English to Hindi translater expert that return whatever user say in Hindi\"),\n",
    "    (\"user\",\"{input}\")\n",
    "])"
   ]
  },
  {
   "cell_type": "code",
   "execution_count": 6,
   "metadata": {},
   "outputs": [
    {
     "data": {
      "text/plain": [
       "'मुझे पाइथन में प्रोग्रामिंग करना पसंद है।'"
      ]
     },
     "execution_count": 6,
     "metadata": {},
     "output_type": "execute_result"
    }
   ],
   "source": [
    "output_parser = StrOutputParser()\n",
    "\n",
    "chain = prompt | llm | output_parser\n",
    "\n",
    "chain.invoke({\n",
    "    \"input\":\"i love programming in python\"\n",
    "})"
   ]
  },
  {
   "cell_type": "code",
   "execution_count": 7,
   "metadata": {},
   "outputs": [
    {
     "data": {
      "text/plain": [
       "[Document(page_content='\\n\\n\\n\\n\\nResume Ved Prakash Pathak\\n\\n\\n\\n\\n\\n\\n\\n\\n\\n\\n\\n\\n\\n\\n\\n\\n\\nIâ€™m Ved Prakash Pathak\\nMachine Learning Engg | AI\\n\\t\\t\\t\\t\\t\\t\\t\\t\\t\\tDeveloper\\n\\n\\t\\t\\t\\t\\t\\t\\t\\t\\tI am a dynamic professional with a robust background in machine learning and\\n\\t\\t\\t\\t\\t\\t\\t\\t\\tartificial intelligence. Driven by curiosity and a pursuit of excellence, I\\n\\t\\t\\t\\t\\t\\t\\t\\t\\tspecialize in Python, focusing on NLP, Computer Vision, and Generative AI. With\\n\\t\\t\\t\\t\\t\\t\\t\\t\\ta strong work ethic and innovative mindset, I thrive in challenging environments,\\n\\t\\t\\t\\t\\t\\t\\t\\t\\tleveraging strategic thinking to drive transformative change. Eager to make a\\n\\t\\t\\t\\t\\t\\t\\t\\t\\tsignificant impact in the technology sector, I am ready to seize new opportunities\\n\\t\\t\\t\\t\\t\\t\\t\\t\\tand collaborate for remarkable results.\\n\\t\\t\\t\\t\\t\\t\\t\\t\\n\\n\\n\\n\\n\\n\\n\\n\\n\\n\\n\\n\\n\\n\\n\\n\\n\\n\\n\\n\\n\\n\\n\\n\\n\\n\\n Toggle navigation   \\n\\n\\n\\n\\nHome\\nAbout Me\\nProjects\\nCertificates\\nContact\\n\\n\\n\\n\\n\\n\\n\\n\\n\\n\\n\\nAbout Me\\nI hold a Bachelors\\'s degree in Mechanical engineering with 7.54 GPA from RAJIV GANDHI\\n\\t\\t\\t\\t\\t\\t\\tPROUDYOGIKI VISHWAVIDYALAYA, BHOPAL\\n\\t\\t\\t\\t\\tI hold  Google cloud certification in machine learning.\\n\\t\\t\\t\\t\\tMy passion for machine learning and MLOps stems from my\\n\\t\\t\\t\\t\\tcuriosity to unearth hidden patterns within data. I\\n\\t\\t\\t\\t\\tleverage these insights to build and manage machine\\n\\t\\t\\t\\t\\tlearning models that solve complex problems and drive\\n\\t\\t\\t\\t\\treal-world business impact. I thrive in dynamic\\n\\t\\t\\t\\t\\tenvironments where I can continuously learn and\\n\\t\\t\\t\\t\\tapply my analytical skills.\\n\\n\\n\\n\\n\\nI am an Aspiring Machine Learning Engineer with passion\\n\\n\\n\\t\\t\\t\\t\\t\\t\\t\\t\\t\\t\\tDownload Resume\\n\\t\\t\\t\\t\\t\\t\\t\\t\\t\\t\\n\\n\\n\\t\\t\\t\\t\\t\\t\\t\\t\\t\\tðŸ”\\xadIn a recent project, I spearheaded the development of a highly customizable\\n\\t\\t\\t\\t\\t\\t\\t\\t\\t\\tRAG Based OpenAI Chatbot plugin for\\n\\t\\t\\t\\t\\t\\t\\t\\t\\t\\tWordPress, which stands as a testament to my proficiency in AI and software\\n\\t\\t\\t\\t\\t\\t\\t\\t\\t\\tengineering. Through meticulous planning and\\n\\t\\t\\t\\t\\t\\t\\t\\t\\t\\texecution, I optimized user engagement by facilitating personalized interactions\\n\\t\\t\\t\\t\\t\\t\\t\\t\\t\\tand dynamic responses. Leveraging a\\n\\t\\t\\t\\t\\t\\t\\t\\t\\t\\trobust tech stack encompassing FASTAPI, HTML, CSS, PHP, WebSocket, and\\n\\t\\t\\t\\t\\t\\t\\t\\t\\t\\tJavaScript functionalities, I engineered a\\n\\t\\t\\t\\t\\t\\t\\t\\t\\t\\tsolution that not only exceeded client expectations but also showcased my\\n\\t\\t\\t\\t\\t\\t\\t\\t\\t\\tability to tackle complex challenges head-on.\\n\\t\\t\\t\\t\\t\\t\\t\\t\\t\\tThis project not only demonstrates my expertise in AI development but also\\n\\t\\t\\t\\t\\t\\t\\t\\t\\t\\tunderscores my commitment to delivering\\n\\t\\t\\t\\t\\t\\t\\t\\t\\t\\tinnovative solutions that drive tangible results and exceed expectations.\\n\\t\\t\\t\\t\\t\\t\\t\\t\\t\\n\\n\\t\\t\\t\\t\\t\\t\\t\\t\\t\\t\"I\\'ve delved into a captivating array of libraries, each a gateway to unlocking\\n\\t\\t\\t\\t\\t\\t\\t\\t\\t\\tnew dimensions of knowledge and innovation.\"\\n\\t\\t\\t\\t\\t\\t\\t\\t\\t\\n\\nVisulization Lib : Matplotlib | seaborn |\\n\\t\\t\\t\\t\\t\\t\\t\\t\\t\\t\\tplotly \\nDeep learning Framework : TensorFlow |\\n\\t\\t\\t\\t\\t\\t\\t\\t\\t\\t\\tTensorFlow lite | Pytorch \\nML libraries : Scikit-learn | XGBoost \\nData Science Fundamentals : Data Structures\\n\\t\\t\\t\\t\\t\\t\\t\\t\\t\\t\\t| NumPy | SQL |Extract, Transform, Load (ETL) \\nMLOps Tools & Technologies : ML Pipelines on\\n\\t\\t\\t\\t\\t\\t\\t\\t\\t\\t\\tGoogle Cloud | Apache Spark | Feature Engineering |\\n\\t\\t\\t\\t\\t\\t\\t\\t\\t\\t\\tApache Airflow | TFX (TensorFlow Extended) | Kubeflow | Kubernetes | Docker\\n\\t\\t\\t\\t\\t\\t\\t\\t\\t\\t\\t| Vertex AI | MLOps concepts | MLflow \\nCloud Platform : AWS (Amazon Web Services) |\\n\\t\\t\\t\\t\\t\\t\\t\\t\\t\\t\\tGCP (Google Cloud Platform) | Azure (Microsoft Azure) | \\nWeb Framework : Streamlit | FastAPI | Flask\\n\\t\\t\\t\\t\\t\\t\\t\\t\\t\\t\\t| HTML | CSS \\nDomains : NLP (Natural Language Processing)\\n\\t\\t\\t\\t\\t\\t\\t\\t\\t\\t\\t| Computer Vision | Time Series Analysis | GAN (Generative Adversarial\\n\\t\\t\\t\\t\\t\\t\\t\\t\\t\\t\\tNetworks)\\n\\t\\t\\t\\t\\t\\t\\t\\t\\t\\t\\t| Large Language Models (LLM) | RESTful API | TensorFlow Serving | \\n\\n\\n \\n\\nPython\\n\\n\\n \\n\\n\\n\\nTensorflow\\n\\n\\n \\n\\n\\n\\n\\nScikit-learn\\n\\n\\n \\n\\n\\n\\n\\nCloud Platform(AWS , GCP , Azure) \\n\\n\\n \\n\\n\\n\\n\\nSQL\\n\\n\\n \\n\\n\\n\\n\\nModel Deployment\\n\\n\\n \\n\\n\\n\\n\\nContinuous Integration/Continuous Deployment\\n\\t\\t\\t\\t\\t\\t\\t\\t\\t\\t\\t\\t\\t(CI/CD)\\n\\n\\n \\n\\n\\n\\n\\nData Visualization\\n\\n\\n \\n\\n\\n\\n\\nCloud Computing\\n\\n\\n \\n\\n\\n\\n\\nFASTAPI\\n\\n\\n \\n\\n\\n\\n\\nHTML & CSS\\n\\n\\n \\n\\n\\n\\n\\njavascript\\n\\n\\n \\n\\n\\n\\n\\njinja\\n\\n\\n \\n\\n\\n\\n\\n\\n\\n\\n\\n\\n\\n\\n\\n\\n\\n\\n\\n\\n\\n\\n\\nProjects\\nIn my recent projects, I\\'ve ventured into a diverse array of fields,\\n\\t\\t\\t\\t\\teach representing a hallmark of my expertise and\\n\\t\\t\\t\\t\\tcommitment to excellence. From pioneering a highly adaptable RAG Based OpenAI Chatbot plugin for\\n\\t\\t\\t\\t\\tWordPress, showcasing\\n\\t\\t\\t\\t\\tmy prowess in AI development and user engagement optimization, to architecting an interactive MCQ\\n\\t\\t\\t\\t\\tgenerator with a\\n\\t\\t\\t\\t\\tstunning 90% content extraction accuracy, I\\'ve consistently pushed the boundaries of innovation.\\n\\t\\t\\t\\t\\tConcurrently, my foray\\n\\t\\t\\t\\t\\tinto advanced GAN training for image generation, achieving remarkable 98% convergence and delivering\\n\\t\\t\\t\\t\\thigh-quality,\\n\\t\\t\\t\\t\\trealistic fashion images, underscores my proficiency in cutting-edge technologies. Each project\\n\\t\\t\\t\\t\\tserves as a testament to\\n\\t\\t\\t\\t\\tmy versatile skill set and unwavering dedication to mastering emerging methodologies. With a track\\n\\t\\t\\t\\t\\trecord of success\\n\\t\\t\\t\\t\\tspanning various domains, I am poised to contribute expertise across a spectrum of fields, from\\n\\t\\t\\t\\t\\tNatural Language\\n\\t\\t\\t\\t\\tProcessing to Computer Vision, and beyond.\\n\\n\\n\\n\\n\\n\\n\\n\\n\\n\\nAll\\n\\n\\nComputer Vision\\n\\n\\nDeep Learning\\n\\n\\nMachine Learning\\n\\n\\nGenerative AI\\n\\n\\nNLP\\n\\n\\ntime-series\\n\\n\\nRecommendation Systems\\n\\n\\n\\n\\n\\n\\n\\n\\n\\n\\n\\n\\n\\n\\n\\nCHAT BOT\\n\\n\\n\\n\\n\\n\\n\\n\\n\\n\\n\\n\\nMCQ Generator\\n\\n\\n\\n\\n\\n\\n\\n\\n\\n\\n\\n\\nImage Classification\\n\\n\\n\\n\\n\\n\\n\\n\\n\\n\\n\\n\\n\\n\\n\\nObject detection\\n\\n\\n\\n\\n\\n\\n\\n\\n\\n\\n\\n\\n\\n\\nBook Recommendation\\n\\n\\n\\n\\n\\n\\n \\n\\n \\n\\n\\n\\nHousing  Dataset\\n\\n\\n\\n\\n\\n\\n\\n  \\n\\n\\n\\nPlant Diesease\\n\\n\\n\\n\\n\\n\\n\\n  \\n\\n\\n\\nLoan Status Prediction\\n\\n\\n\\n\\n\\n\\n\\n  \\n\\n\\n\\nIMAGE GENERATION WITH GAN\\n\\n\\n\\n\\n\\n\\n\\n  \\n\\n\\n\\nDisaster Tweets\\n\\n\\n\\n\\n\\n\\n\\n  \\n\\n\\n\\nBitcoin Price Prediction\\n\\n\\n\\n\\n\\n\\n\\n\\n\\n\\n\\n\\n\\n\\n NOTE : stay tuned for our upcoming projects, showcasing comprehensive end-to-end ML and\\n\\t\\t\\t\\tMLOps expertise.\\n\\n\\n\\n\\n\\nCertificates \\nAcquired badges in various Google Cloud and Machine Learning topics, showcasing expertise in areas such\\n\\t\\t\\t\\tas Image Generation, Generative AI, Recommendation Systems,\\n\\t\\t\\t\\tProduction Machine Learning, Feature Engineering, ML Pipelines, Computer Vision, TensorFlow, and MLOps.\\n\\t\\t\\t\\nCheckout my Google cloud profile:- Google\\n\\t\\t\\t\\t\\tcloud profile\\n\\n\\n\\n  \\n\\nComputer Vision\\nCertificate in Computer Vision, showcasing\\n\\t\\t\\t\\t\\t\\t\\t\\t\\tproficiency in visual data analysis and interpretation. \\n\\n\\n\\n  \\n\\nML Fundamentals\\nCertificate in ML Fundamentals, demonstrating\\n\\t\\t\\t\\t\\t\\t\\t\\t\\tfoundational knowledge in machine learning principles and techniques. \\n\\n\\n\\n  \\n\\nML-pipelines\\nCertificate in ML Pipelines, illustrating expertise\\n\\t\\t\\t\\t\\t\\t\\t\\t\\tin designing and deploying efficient machine learning workflows for streamlined\\n\\t\\t\\t\\t\\t\\t\\t\\t\\tmodel development and deployment. \\n\\n\\n\\n   \\n\\nProduction Machine Learning\\nCertificate in Production Machine Learning,\\n\\t\\t\\t\\t\\t\\t\\t\\t\\tdemonstrating mastery in deploying machine learning models into real-world\\n\\t\\t\\t\\t\\t\\t\\t\\t\\tproduction environments for scalable and reliable applications. \\n\\n\\n\\n  \\n\\nRecommendation System\\nCertificate in Recommendation Systems, highlighting\\n\\t\\t\\t\\t\\t\\t\\t\\t\\tproficiency in designing and implementing personalized recommendation algorithms to\\n\\t\\t\\t\\t\\t\\t\\t\\t\\tenhance user experience and engagement.\\n\\n\\n\\n   \\n\\nTensorFlow\\nCertificate in TensorFlow, showcasing expertise in\\n\\t\\t\\t\\t\\t\\t\\t\\t\\tutilizing TensorFlow for building and deploying machine learning and deep learning\\n\\t\\t\\t\\t\\t\\t\\t\\t\\tmodels.\\n\\n\\n\\n   \\n\\nProduction Machine Learning\\nCertificate in Production Machine Learning,\\n\\t\\t\\t\\t\\t\\t\\t\\t\\tdemonstrating mastery in deploying machine learning models into real-world\\n\\t\\t\\t\\t\\t\\t\\t\\t\\tproduction environments for scalable and reliable applications. \\n\\n\\n\\n   \\n\\nMLOps\\nCertificate in MLOps, showcasing proficiency in\\n\\t\\t\\t\\t\\t\\t\\t\\t\\timplementing end-to-end machine learning workflows using Apache Airflow, Kubeflow,\\n\\t\\t\\t\\t\\t\\t\\t\\t\\tand Vertex AI for efficient model development, deployment, and monitoring. \\n\\n\\n\\n\\n\\n\\n\\n\\n\\n\\n\\n\\n\\nGet In Touch\\n\"Open for opportunities - Ready to join your team and make an\\n\\t\\t\\t\\t\\t\\timpact!\"\\n\\t\\t\\t\\t\\t\\n\\n\\n\\n\\n\\nVed Prakash Pathak\\nGreater Noida U.P\\n\\n\\ncall me\\n+91 8817011092\\n\\n\\nEmail me\\nvp.ved.vpp@gmail.com\\n\\n\\n\\n\\n\\n\\n\\n\\n\\n\\nThank you for visiting my website. I am\\n\\t\\t\\t\\t\\t\\t\\tcurrently pursuing\\n\\t\\t\\t\\t\\t\\t\\topportunities in the domains of Machine Learning and AI development,\\n\\t\\t\\t\\t\\t\\t\\tactively seeking to leverage my expertise and drive impactful contributions to innovative\\n\\t\\t\\t\\t\\t\\t\\tprojects. With a strong\\n\\t\\t\\t\\t\\t\\t\\tfoundation in ML methodologies and MLOps practices, I am eager to join a dynamic team where\\n\\t\\t\\t\\t\\t\\t\\tI can apply my skills\\n\\t\\t\\t\\t\\t\\t\\teffectively and contribute to the advancement of cutting-edge technologies. If you have any\\n\\t\\t\\t\\t\\t\\t\\trelevant openings within\\n\\t\\t\\t\\t\\t\\t\\tyour organization, I am enthusiastic about the possibility of joining your team and making a\\n\\t\\t\\t\\t\\t\\t\\tmeaningful impact.\\n\\n\\n\\n\\nCopyright Â© 2024. Resume of Ved Prakash Pathak \\n\\n\\n\\n\\n\\n\\n\\n\\n\\n\\n\\n\\n\\n\\n', metadata={'source': 'https://iampathak2702.github.io/Resume/', 'title': 'Resume Ved Prakash Pathak', 'language': 'No language found.'})]"
      ]
     },
     "execution_count": 7,
     "metadata": {},
     "output_type": "execute_result"
    }
   ],
   "source": [
    "loader = WebBaseLoader(\"https://iampathak2702.github.io/Resume/\")\n",
    "\n",
    "docs = loader.load()\n",
    "docs"
   ]
  },
  {
   "cell_type": "code",
   "execution_count": 8,
   "metadata": {},
   "outputs": [
    {
     "data": {
      "text/plain": [
       "[Document(page_content='Resume Ved Prakash Pathak\\n\\n\\n\\n\\n\\n\\n\\n\\n\\n\\n\\n\\n\\n\\n\\n\\n\\nIâ€™m Ved Prakash Pathak\\nMachine Learning Engg | AI\\n\\t\\t\\t\\t\\t\\t\\t\\t\\t\\tDeveloper\\n\\n\\t\\t\\t\\t\\t\\t\\t\\t\\tI am a dynamic professional with a robust background in machine learning and\\n\\t\\t\\t\\t\\t\\t\\t\\t\\tartificial intelligence. Driven by curiosity and a pursuit of excellence, I\\n\\t\\t\\t\\t\\t\\t\\t\\t\\tspecialize in Python, focusing on NLP, Computer Vision, and Generative AI. With\\n\\t\\t\\t\\t\\t\\t\\t\\t\\ta strong work ethic and innovative mindset, I thrive in challenging environments,\\n\\t\\t\\t\\t\\t\\t\\t\\t\\tleveraging strategic thinking to drive transformative change. Eager to make a\\n\\t\\t\\t\\t\\t\\t\\t\\t\\tsignificant impact in the technology sector, I am ready to seize new opportunities\\n\\t\\t\\t\\t\\t\\t\\t\\t\\tand collaborate for remarkable results.\\n\\t\\t\\t\\t\\t\\t\\t\\t\\n\\n\\n\\n\\n\\n\\n\\n\\n\\n\\n\\n\\n\\n\\n\\n\\n\\n\\n\\n\\n\\n\\n\\n\\n\\n\\n Toggle navigation   \\n\\n\\n\\n\\nHome\\nAbout Me\\nProjects\\nCertificates\\nContact\\n\\n\\n\\n\\n\\n\\n\\n\\n\\n\\n\\nAbout Me\\nI hold a Bachelors\\'s degree in Mechanical engineering with 7.54 GPA from RAJIV GANDHI\\n\\t\\t\\t\\t\\t\\t\\tPROUDYOGIKI VISHWAVIDYALAYA, BHOPAL\\n\\t\\t\\t\\t\\tI hold  Google cloud certification in machine learning.\\n\\t\\t\\t\\t\\tMy passion for machine learning and MLOps stems from my\\n\\t\\t\\t\\t\\tcuriosity to unearth hidden patterns within data. I\\n\\t\\t\\t\\t\\tleverage these insights to build and manage machine\\n\\t\\t\\t\\t\\tlearning models that solve complex problems and drive\\n\\t\\t\\t\\t\\treal-world business impact. I thrive in dynamic\\n\\t\\t\\t\\t\\tenvironments where I can continuously learn and\\n\\t\\t\\t\\t\\tapply my analytical skills.\\n\\n\\n\\n\\n\\nI am an Aspiring Machine Learning Engineer with passion\\n\\n\\n\\t\\t\\t\\t\\t\\t\\t\\t\\t\\t\\tDownload Resume\\n\\t\\t\\t\\t\\t\\t\\t\\t\\t\\t\\n\\n\\n\\t\\t\\t\\t\\t\\t\\t\\t\\t\\tðŸ”\\xadIn a recent project, I spearheaded the development of a highly customizable\\n\\t\\t\\t\\t\\t\\t\\t\\t\\t\\tRAG Based OpenAI Chatbot plugin for\\n\\t\\t\\t\\t\\t\\t\\t\\t\\t\\tWordPress, which stands as a testament to my proficiency in AI and software\\n\\t\\t\\t\\t\\t\\t\\t\\t\\t\\tengineering. Through meticulous planning and\\n\\t\\t\\t\\t\\t\\t\\t\\t\\t\\texecution, I optimized user engagement by facilitating personalized interactions\\n\\t\\t\\t\\t\\t\\t\\t\\t\\t\\tand dynamic responses. Leveraging a\\n\\t\\t\\t\\t\\t\\t\\t\\t\\t\\trobust tech stack encompassing FASTAPI, HTML, CSS, PHP, WebSocket, and\\n\\t\\t\\t\\t\\t\\t\\t\\t\\t\\tJavaScript functionalities, I engineered a\\n\\t\\t\\t\\t\\t\\t\\t\\t\\t\\tsolution that not only exceeded client expectations but also showcased my\\n\\t\\t\\t\\t\\t\\t\\t\\t\\t\\tability to tackle complex challenges head-on.\\n\\t\\t\\t\\t\\t\\t\\t\\t\\t\\tThis project not only demonstrates my expertise in AI development but also\\n\\t\\t\\t\\t\\t\\t\\t\\t\\t\\tunderscores my commitment to delivering\\n\\t\\t\\t\\t\\t\\t\\t\\t\\t\\tinnovative solutions that drive tangible results and exceed expectations.\\n\\t\\t\\t\\t\\t\\t\\t\\t\\t\\n\\n\\t\\t\\t\\t\\t\\t\\t\\t\\t\\t\"I\\'ve delved into a captivating array of libraries, each a gateway to unlocking\\n\\t\\t\\t\\t\\t\\t\\t\\t\\t\\tnew dimensions of knowledge and innovation.\"\\n\\t\\t\\t\\t\\t\\t\\t\\t\\t\\n\\nVisulization Lib : Matplotlib | seaborn |\\n\\t\\t\\t\\t\\t\\t\\t\\t\\t\\t\\tplotly \\nDeep learning Framework : TensorFlow |\\n\\t\\t\\t\\t\\t\\t\\t\\t\\t\\t\\tTensorFlow lite | Pytorch \\nML libraries : Scikit-learn | XGBoost \\nData Science Fundamentals : Data Structures\\n\\t\\t\\t\\t\\t\\t\\t\\t\\t\\t\\t| NumPy | SQL |Extract, Transform, Load (ETL) \\nMLOps Tools & Technologies : ML Pipelines on\\n\\t\\t\\t\\t\\t\\t\\t\\t\\t\\t\\tGoogle Cloud | Apache Spark | Feature Engineering |\\n\\t\\t\\t\\t\\t\\t\\t\\t\\t\\t\\tApache Airflow | TFX (TensorFlow Extended) | Kubeflow | Kubernetes | Docker\\n\\t\\t\\t\\t\\t\\t\\t\\t\\t\\t\\t| Vertex AI | MLOps concepts | MLflow \\nCloud Platform : AWS (Amazon Web Services) |\\n\\t\\t\\t\\t\\t\\t\\t\\t\\t\\t\\tGCP (Google Cloud Platform) | Azure (Microsoft Azure) | \\nWeb Framework : Streamlit | FastAPI | Flask\\n\\t\\t\\t\\t\\t\\t\\t\\t\\t\\t\\t| HTML | CSS \\nDomains : NLP (Natural Language Processing)\\n\\t\\t\\t\\t\\t\\t\\t\\t\\t\\t\\t| Computer Vision | Time Series Analysis | GAN (Generative Adversarial\\n\\t\\t\\t\\t\\t\\t\\t\\t\\t\\t\\tNetworks)\\n\\t\\t\\t\\t\\t\\t\\t\\t\\t\\t\\t| Large Language Models (LLM) | RESTful API | TensorFlow Serving | \\n\\n\\n \\n\\nPython\\n\\n\\n \\n\\n\\n\\nTensorflow\\n\\n\\n \\n\\n\\n\\n\\nScikit-learn\\n\\n\\n \\n\\n\\n\\n\\nCloud Platform(AWS , GCP , Azure) \\n\\n\\n \\n\\n\\n\\n\\nSQL\\n\\n\\n \\n\\n\\n\\n\\nModel Deployment\\n\\n\\n \\n\\n\\n\\n\\nContinuous Integration/Continuous Deployment\\n\\t\\t\\t\\t\\t\\t\\t\\t\\t\\t\\t\\t\\t(CI/CD)\\n\\n\\n \\n\\n\\n\\n\\nData Visualization\\n\\n\\n \\n\\n\\n\\n\\nCloud Computing\\n\\n\\n \\n\\n\\n\\n\\nFASTAPI\\n\\n\\n \\n\\n\\n\\n\\nHTML & CSS\\n\\n\\n \\n\\n\\n\\n\\njavascript\\n\\n\\n \\n\\n\\n\\n\\njinja', metadata={'source': 'https://iampathak2702.github.io/Resume/', 'title': 'Resume Ved Prakash Pathak', 'language': 'No language found.'}),\n",
       " Document(page_content='Data Visualization\\n\\n\\n \\n\\n\\n\\n\\nCloud Computing\\n\\n\\n \\n\\n\\n\\n\\nFASTAPI\\n\\n\\n \\n\\n\\n\\n\\nHTML & CSS\\n\\n\\n \\n\\n\\n\\n\\njavascript\\n\\n\\n \\n\\n\\n\\n\\njinja\\n\\n\\n \\n\\n\\n\\n\\n\\n\\n\\n\\n\\n\\n\\n\\n\\n\\n\\n\\n\\n\\n\\n\\nProjects\\nIn my recent projects, I\\'ve ventured into a diverse array of fields,\\n\\t\\t\\t\\t\\teach representing a hallmark of my expertise and\\n\\t\\t\\t\\t\\tcommitment to excellence. From pioneering a highly adaptable RAG Based OpenAI Chatbot plugin for\\n\\t\\t\\t\\t\\tWordPress, showcasing\\n\\t\\t\\t\\t\\tmy prowess in AI development and user engagement optimization, to architecting an interactive MCQ\\n\\t\\t\\t\\t\\tgenerator with a\\n\\t\\t\\t\\t\\tstunning 90% content extraction accuracy, I\\'ve consistently pushed the boundaries of innovation.\\n\\t\\t\\t\\t\\tConcurrently, my foray\\n\\t\\t\\t\\t\\tinto advanced GAN training for image generation, achieving remarkable 98% convergence and delivering\\n\\t\\t\\t\\t\\thigh-quality,\\n\\t\\t\\t\\t\\trealistic fashion images, underscores my proficiency in cutting-edge technologies. Each project\\n\\t\\t\\t\\t\\tserves as a testament to\\n\\t\\t\\t\\t\\tmy versatile skill set and unwavering dedication to mastering emerging methodologies. With a track\\n\\t\\t\\t\\t\\trecord of success\\n\\t\\t\\t\\t\\tspanning various domains, I am poised to contribute expertise across a spectrum of fields, from\\n\\t\\t\\t\\t\\tNatural Language\\n\\t\\t\\t\\t\\tProcessing to Computer Vision, and beyond.\\n\\n\\n\\n\\n\\n\\n\\n\\n\\n\\nAll\\n\\n\\nComputer Vision\\n\\n\\nDeep Learning\\n\\n\\nMachine Learning\\n\\n\\nGenerative AI\\n\\n\\nNLP\\n\\n\\ntime-series\\n\\n\\nRecommendation Systems\\n\\n\\n\\n\\n\\n\\n\\n\\n\\n\\n\\n\\n\\n\\n\\nCHAT BOT\\n\\n\\n\\n\\n\\n\\n\\n\\n\\n\\n\\n\\nMCQ Generator\\n\\n\\n\\n\\n\\n\\n\\n\\n\\n\\n\\n\\nImage Classification\\n\\n\\n\\n\\n\\n\\n\\n\\n\\n\\n\\n\\n\\n\\n\\nObject detection\\n\\n\\n\\n\\n\\n\\n\\n\\n\\n\\n\\n\\n\\n\\nBook Recommendation\\n\\n\\n\\n\\n\\n\\n \\n\\n \\n\\n\\n\\nHousing  Dataset\\n\\n\\n\\n\\n\\n\\n\\n  \\n\\n\\n\\nPlant Diesease\\n\\n\\n\\n\\n\\n\\n\\n  \\n\\n\\n\\nLoan Status Prediction\\n\\n\\n\\n\\n\\n\\n\\n  \\n\\n\\n\\nIMAGE GENERATION WITH GAN\\n\\n\\n\\n\\n\\n\\n\\n  \\n\\n\\n\\nDisaster Tweets\\n\\n\\n\\n\\n\\n\\n\\n  \\n\\n\\n\\nBitcoin Price Prediction\\n\\n\\n\\n\\n\\n\\n\\n\\n\\n\\n\\n\\n\\n\\n NOTE : stay tuned for our upcoming projects, showcasing comprehensive end-to-end ML and\\n\\t\\t\\t\\tMLOps expertise.\\n\\n\\n\\n\\n\\nCertificates \\nAcquired badges in various Google Cloud and Machine Learning topics, showcasing expertise in areas such\\n\\t\\t\\t\\tas Image Generation, Generative AI, Recommendation Systems,\\n\\t\\t\\t\\tProduction Machine Learning, Feature Engineering, ML Pipelines, Computer Vision, TensorFlow, and MLOps.\\n\\t\\t\\t\\nCheckout my Google cloud profile:- Google\\n\\t\\t\\t\\t\\tcloud profile\\n\\n\\n\\n  \\n\\nComputer Vision\\nCertificate in Computer Vision, showcasing\\n\\t\\t\\t\\t\\t\\t\\t\\t\\tproficiency in visual data analysis and interpretation. \\n\\n\\n\\n  \\n\\nML Fundamentals\\nCertificate in ML Fundamentals, demonstrating\\n\\t\\t\\t\\t\\t\\t\\t\\t\\tfoundational knowledge in machine learning principles and techniques. \\n\\n\\n\\n  \\n\\nML-pipelines\\nCertificate in ML Pipelines, illustrating expertise\\n\\t\\t\\t\\t\\t\\t\\t\\t\\tin designing and deploying efficient machine learning workflows for streamlined\\n\\t\\t\\t\\t\\t\\t\\t\\t\\tmodel development and deployment. \\n\\n\\n\\n   \\n\\nProduction Machine Learning\\nCertificate in Production Machine Learning,\\n\\t\\t\\t\\t\\t\\t\\t\\t\\tdemonstrating mastery in deploying machine learning models into real-world\\n\\t\\t\\t\\t\\t\\t\\t\\t\\tproduction environments for scalable and reliable applications. \\n\\n\\n\\n  \\n\\nRecommendation System\\nCertificate in Recommendation Systems, highlighting\\n\\t\\t\\t\\t\\t\\t\\t\\t\\tproficiency in designing and implementing personalized recommendation algorithms to\\n\\t\\t\\t\\t\\t\\t\\t\\t\\tenhance user experience and engagement.\\n\\n\\n\\n   \\n\\nTensorFlow\\nCertificate in TensorFlow, showcasing expertise in\\n\\t\\t\\t\\t\\t\\t\\t\\t\\tutilizing TensorFlow for building and deploying machine learning and deep learning\\n\\t\\t\\t\\t\\t\\t\\t\\t\\tmodels.\\n\\n\\n\\n   \\n\\nProduction Machine Learning\\nCertificate in Production Machine Learning,\\n\\t\\t\\t\\t\\t\\t\\t\\t\\tdemonstrating mastery in deploying machine learning models into real-world\\n\\t\\t\\t\\t\\t\\t\\t\\t\\tproduction environments for scalable and reliable applications. \\n\\n\\n\\n   \\n\\nMLOps\\nCertificate in MLOps, showcasing proficiency in\\n\\t\\t\\t\\t\\t\\t\\t\\t\\timplementing end-to-end machine learning workflows using Apache Airflow, Kubeflow,\\n\\t\\t\\t\\t\\t\\t\\t\\t\\tand Vertex AI for efficient model development, deployment, and monitoring. \\n\\n\\n\\n\\n\\n\\n\\n\\n\\n\\n\\n\\n\\nGet In Touch\\n\"Open for opportunities - Ready to join your team and make an\\n\\t\\t\\t\\t\\t\\timpact!\"\\n\\t\\t\\t\\t\\t\\n\\n\\n\\n\\n\\nVed Prakash Pathak\\nGreater Noida U.P\\n\\n\\ncall me\\n+91 8817011092\\n\\n\\nEmail me\\nvp.ved.vpp@gmail.com', metadata={'source': 'https://iampathak2702.github.io/Resume/', 'title': 'Resume Ved Prakash Pathak', 'language': 'No language found.'}),\n",
       " Document(page_content='Ved Prakash Pathak\\nGreater Noida U.P\\n\\n\\ncall me\\n+91 8817011092\\n\\n\\nEmail me\\nvp.ved.vpp@gmail.com\\n\\n\\n\\n\\n\\n\\n\\n\\n\\n\\nThank you for visiting my website. I am\\n\\t\\t\\t\\t\\t\\t\\tcurrently pursuing\\n\\t\\t\\t\\t\\t\\t\\topportunities in the domains of Machine Learning and AI development,\\n\\t\\t\\t\\t\\t\\t\\tactively seeking to leverage my expertise and drive impactful contributions to innovative\\n\\t\\t\\t\\t\\t\\t\\tprojects. With a strong\\n\\t\\t\\t\\t\\t\\t\\tfoundation in ML methodologies and MLOps practices, I am eager to join a dynamic team where\\n\\t\\t\\t\\t\\t\\t\\tI can apply my skills\\n\\t\\t\\t\\t\\t\\t\\teffectively and contribute to the advancement of cutting-edge technologies. If you have any\\n\\t\\t\\t\\t\\t\\t\\trelevant openings within\\n\\t\\t\\t\\t\\t\\t\\tyour organization, I am enthusiastic about the possibility of joining your team and making a\\n\\t\\t\\t\\t\\t\\t\\tmeaningful impact.\\n\\n\\n\\n\\nCopyright Â© 2024. Resume of Ved Prakash Pathak', metadata={'source': 'https://iampathak2702.github.io/Resume/', 'title': 'Resume Ved Prakash Pathak', 'language': 'No language found.'})]"
      ]
     },
     "execution_count": 8,
     "metadata": {},
     "output_type": "execute_result"
    }
   ],
   "source": [
    "text_splitter = RecursiveCharacterTextSplitter()\n",
    "\n",
    "documents = text_splitter.split_documents(docs)\n",
    "documents"
   ]
  },
  {
   "cell_type": "code",
   "execution_count": 11,
   "metadata": {},
   "outputs": [],
   "source": [
    "embeddings = OpenAIEmbeddings()\n",
    "\n",
    "vectorstore = FAISS.from_documents(documents=documents, embedding=embeddings)"
   ]
  },
  {
   "cell_type": "code",
   "execution_count": 12,
   "metadata": {},
   "outputs": [
    {
     "data": {
      "text/plain": [
       "<langchain_community.vectorstores.faiss.FAISS at 0x1f799ffcb10>"
      ]
     },
     "execution_count": 12,
     "metadata": {},
     "output_type": "execute_result"
    }
   ],
   "source": [
    "vectorstore"
   ]
  },
  {
   "cell_type": "code",
   "execution_count": 15,
   "metadata": {},
   "outputs": [],
   "source": [
    "template = \"\"\"Answer the following question based on only on the provided context:\n",
    "\n",
    "<context>\n",
    "{context}\n",
    "<context>\n",
    "\n",
    "Question : {input}\n",
    "\n",
    "\"\"\"\n",
    "\n",
    "prompt = ChatPromptTemplate.from_template(template)\n",
    "document_chain = create_stuff_documents_chain(llm, prompt)"
   ]
  },
  {
   "cell_type": "code",
   "execution_count": 19,
   "metadata": {},
   "outputs": [
    {
     "data": {
      "text/plain": [
       "'We are talking about Ved Prakash Pathak, a Machine Learning Engineer.'"
      ]
     },
     "execution_count": 19,
     "metadata": {},
     "output_type": "execute_result"
    }
   ],
   "source": [
    "document_chain.invoke({\n",
    "    \"input\":\"Who are we talking about?\",\n",
    "    \"context\":[Document(page_content=\"Ved Prakash Pathak a Machine Learning Enginner\")]\n",
    "})"
   ]
  },
  {
   "cell_type": "code",
   "execution_count": 20,
   "metadata": {},
   "outputs": [],
   "source": [
    "retriever = vectorstore.as_retriever()\n",
    "retrievel_chain = create_retrieval_chain(retriever , document_chain)"
   ]
  },
  {
   "cell_type": "code",
   "execution_count": null,
   "metadata": {
    "collapsed": true
   },
   "outputs": [],
   "source": [
    "response = retrievel_chain.invoke({\n",
    "    \"input\":\"Who are we talking about?\",\n",
    "})"
   ]
  },
  {
   "cell_type": "code",
   "execution_count": 24,
   "metadata": {},
   "outputs": [
    {
     "name": "stdout",
     "output_type": "stream",
     "text": [
      "We are talking about Ved Prakash Pathak.\n"
     ]
    }
   ],
   "source": [
    "print(response['answer'])"
   ]
  },
  {
   "cell_type": "markdown",
   "metadata": {},
   "source": [
    "# Conversation Retrival Chain"
   ]
  },
  {
   "cell_type": "code",
   "execution_count": 28,
   "metadata": {},
   "outputs": [],
   "source": [
    "prompt = ChatPromptTemplate.from_messages([\n",
    "    MessagesPlaceholder(variable_name=\"chat_history\"),\n",
    "    (\"user\",\"{input}\"),\n",
    "    (\"user\", \"Given the above conversation, generate a search query to look up in the order to get information relevant to the conversation\")\n",
    "])\n",
    "\n",
    "retrievel_chain = create_history_aware_retriever(llm , retriever=retriever , prompt=prompt)"
   ]
  },
  {
   "cell_type": "code",
   "execution_count": 30,
   "metadata": {},
   "outputs": [
    {
     "data": {
      "text/plain": [
       "[Document(page_content='Data Visualization\\n\\n\\n \\n\\n\\n\\n\\nCloud Computing\\n\\n\\n \\n\\n\\n\\n\\nFASTAPI\\n\\n\\n \\n\\n\\n\\n\\nHTML & CSS\\n\\n\\n \\n\\n\\n\\n\\njavascript\\n\\n\\n \\n\\n\\n\\n\\njinja\\n\\n\\n \\n\\n\\n\\n\\n\\n\\n\\n\\n\\n\\n\\n\\n\\n\\n\\n\\n\\n\\n\\n\\nProjects\\nIn my recent projects, I\\'ve ventured into a diverse array of fields,\\n\\t\\t\\t\\t\\teach representing a hallmark of my expertise and\\n\\t\\t\\t\\t\\tcommitment to excellence. From pioneering a highly adaptable RAG Based OpenAI Chatbot plugin for\\n\\t\\t\\t\\t\\tWordPress, showcasing\\n\\t\\t\\t\\t\\tmy prowess in AI development and user engagement optimization, to architecting an interactive MCQ\\n\\t\\t\\t\\t\\tgenerator with a\\n\\t\\t\\t\\t\\tstunning 90% content extraction accuracy, I\\'ve consistently pushed the boundaries of innovation.\\n\\t\\t\\t\\t\\tConcurrently, my foray\\n\\t\\t\\t\\t\\tinto advanced GAN training for image generation, achieving remarkable 98% convergence and delivering\\n\\t\\t\\t\\t\\thigh-quality,\\n\\t\\t\\t\\t\\trealistic fashion images, underscores my proficiency in cutting-edge technologies. Each project\\n\\t\\t\\t\\t\\tserves as a testament to\\n\\t\\t\\t\\t\\tmy versatile skill set and unwavering dedication to mastering emerging methodologies. With a track\\n\\t\\t\\t\\t\\trecord of success\\n\\t\\t\\t\\t\\tspanning various domains, I am poised to contribute expertise across a spectrum of fields, from\\n\\t\\t\\t\\t\\tNatural Language\\n\\t\\t\\t\\t\\tProcessing to Computer Vision, and beyond.\\n\\n\\n\\n\\n\\n\\n\\n\\n\\n\\nAll\\n\\n\\nComputer Vision\\n\\n\\nDeep Learning\\n\\n\\nMachine Learning\\n\\n\\nGenerative AI\\n\\n\\nNLP\\n\\n\\ntime-series\\n\\n\\nRecommendation Systems\\n\\n\\n\\n\\n\\n\\n\\n\\n\\n\\n\\n\\n\\n\\n\\nCHAT BOT\\n\\n\\n\\n\\n\\n\\n\\n\\n\\n\\n\\n\\nMCQ Generator\\n\\n\\n\\n\\n\\n\\n\\n\\n\\n\\n\\n\\nImage Classification\\n\\n\\n\\n\\n\\n\\n\\n\\n\\n\\n\\n\\n\\n\\n\\nObject detection\\n\\n\\n\\n\\n\\n\\n\\n\\n\\n\\n\\n\\n\\n\\nBook Recommendation\\n\\n\\n\\n\\n\\n\\n \\n\\n \\n\\n\\n\\nHousing  Dataset\\n\\n\\n\\n\\n\\n\\n\\n  \\n\\n\\n\\nPlant Diesease\\n\\n\\n\\n\\n\\n\\n\\n  \\n\\n\\n\\nLoan Status Prediction\\n\\n\\n\\n\\n\\n\\n\\n  \\n\\n\\n\\nIMAGE GENERATION WITH GAN\\n\\n\\n\\n\\n\\n\\n\\n  \\n\\n\\n\\nDisaster Tweets\\n\\n\\n\\n\\n\\n\\n\\n  \\n\\n\\n\\nBitcoin Price Prediction\\n\\n\\n\\n\\n\\n\\n\\n\\n\\n\\n\\n\\n\\n\\n NOTE : stay tuned for our upcoming projects, showcasing comprehensive end-to-end ML and\\n\\t\\t\\t\\tMLOps expertise.\\n\\n\\n\\n\\n\\nCertificates \\nAcquired badges in various Google Cloud and Machine Learning topics, showcasing expertise in areas such\\n\\t\\t\\t\\tas Image Generation, Generative AI, Recommendation Systems,\\n\\t\\t\\t\\tProduction Machine Learning, Feature Engineering, ML Pipelines, Computer Vision, TensorFlow, and MLOps.\\n\\t\\t\\t\\nCheckout my Google cloud profile:- Google\\n\\t\\t\\t\\t\\tcloud profile\\n\\n\\n\\n  \\n\\nComputer Vision\\nCertificate in Computer Vision, showcasing\\n\\t\\t\\t\\t\\t\\t\\t\\t\\tproficiency in visual data analysis and interpretation. \\n\\n\\n\\n  \\n\\nML Fundamentals\\nCertificate in ML Fundamentals, demonstrating\\n\\t\\t\\t\\t\\t\\t\\t\\t\\tfoundational knowledge in machine learning principles and techniques. \\n\\n\\n\\n  \\n\\nML-pipelines\\nCertificate in ML Pipelines, illustrating expertise\\n\\t\\t\\t\\t\\t\\t\\t\\t\\tin designing and deploying efficient machine learning workflows for streamlined\\n\\t\\t\\t\\t\\t\\t\\t\\t\\tmodel development and deployment. \\n\\n\\n\\n   \\n\\nProduction Machine Learning\\nCertificate in Production Machine Learning,\\n\\t\\t\\t\\t\\t\\t\\t\\t\\tdemonstrating mastery in deploying machine learning models into real-world\\n\\t\\t\\t\\t\\t\\t\\t\\t\\tproduction environments for scalable and reliable applications. \\n\\n\\n\\n  \\n\\nRecommendation System\\nCertificate in Recommendation Systems, highlighting\\n\\t\\t\\t\\t\\t\\t\\t\\t\\tproficiency in designing and implementing personalized recommendation algorithms to\\n\\t\\t\\t\\t\\t\\t\\t\\t\\tenhance user experience and engagement.\\n\\n\\n\\n   \\n\\nTensorFlow\\nCertificate in TensorFlow, showcasing expertise in\\n\\t\\t\\t\\t\\t\\t\\t\\t\\tutilizing TensorFlow for building and deploying machine learning and deep learning\\n\\t\\t\\t\\t\\t\\t\\t\\t\\tmodels.\\n\\n\\n\\n   \\n\\nProduction Machine Learning\\nCertificate in Production Machine Learning,\\n\\t\\t\\t\\t\\t\\t\\t\\t\\tdemonstrating mastery in deploying machine learning models into real-world\\n\\t\\t\\t\\t\\t\\t\\t\\t\\tproduction environments for scalable and reliable applications. \\n\\n\\n\\n   \\n\\nMLOps\\nCertificate in MLOps, showcasing proficiency in\\n\\t\\t\\t\\t\\t\\t\\t\\t\\timplementing end-to-end machine learning workflows using Apache Airflow, Kubeflow,\\n\\t\\t\\t\\t\\t\\t\\t\\t\\tand Vertex AI for efficient model development, deployment, and monitoring. \\n\\n\\n\\n\\n\\n\\n\\n\\n\\n\\n\\n\\n\\nGet In Touch\\n\"Open for opportunities - Ready to join your team and make an\\n\\t\\t\\t\\t\\t\\timpact!\"\\n\\t\\t\\t\\t\\t\\n\\n\\n\\n\\n\\nVed Prakash Pathak\\nGreater Noida U.P\\n\\n\\ncall me\\n+91 8817011092\\n\\n\\nEmail me\\nvp.ved.vpp@gmail.com', metadata={'source': 'https://iampathak2702.github.io/Resume/', 'title': 'Resume Ved Prakash Pathak', 'language': 'No language found.'}),\n",
       " Document(page_content='Ved Prakash Pathak\\nGreater Noida U.P\\n\\n\\ncall me\\n+91 8817011092\\n\\n\\nEmail me\\nvp.ved.vpp@gmail.com\\n\\n\\n\\n\\n\\n\\n\\n\\n\\n\\nThank you for visiting my website. I am\\n\\t\\t\\t\\t\\t\\t\\tcurrently pursuing\\n\\t\\t\\t\\t\\t\\t\\topportunities in the domains of Machine Learning and AI development,\\n\\t\\t\\t\\t\\t\\t\\tactively seeking to leverage my expertise and drive impactful contributions to innovative\\n\\t\\t\\t\\t\\t\\t\\tprojects. With a strong\\n\\t\\t\\t\\t\\t\\t\\tfoundation in ML methodologies and MLOps practices, I am eager to join a dynamic team where\\n\\t\\t\\t\\t\\t\\t\\tI can apply my skills\\n\\t\\t\\t\\t\\t\\t\\teffectively and contribute to the advancement of cutting-edge technologies. If you have any\\n\\t\\t\\t\\t\\t\\t\\trelevant openings within\\n\\t\\t\\t\\t\\t\\t\\tyour organization, I am enthusiastic about the possibility of joining your team and making a\\n\\t\\t\\t\\t\\t\\t\\tmeaningful impact.\\n\\n\\n\\n\\nCopyright Â© 2024. Resume of Ved Prakash Pathak', metadata={'source': 'https://iampathak2702.github.io/Resume/', 'title': 'Resume Ved Prakash Pathak', 'language': 'No language found.'}),\n",
       " Document(page_content='Resume Ved Prakash Pathak\\n\\n\\n\\n\\n\\n\\n\\n\\n\\n\\n\\n\\n\\n\\n\\n\\n\\nIâ€™m Ved Prakash Pathak\\nMachine Learning Engg | AI\\n\\t\\t\\t\\t\\t\\t\\t\\t\\t\\tDeveloper\\n\\n\\t\\t\\t\\t\\t\\t\\t\\t\\tI am a dynamic professional with a robust background in machine learning and\\n\\t\\t\\t\\t\\t\\t\\t\\t\\tartificial intelligence. Driven by curiosity and a pursuit of excellence, I\\n\\t\\t\\t\\t\\t\\t\\t\\t\\tspecialize in Python, focusing on NLP, Computer Vision, and Generative AI. With\\n\\t\\t\\t\\t\\t\\t\\t\\t\\ta strong work ethic and innovative mindset, I thrive in challenging environments,\\n\\t\\t\\t\\t\\t\\t\\t\\t\\tleveraging strategic thinking to drive transformative change. Eager to make a\\n\\t\\t\\t\\t\\t\\t\\t\\t\\tsignificant impact in the technology sector, I am ready to seize new opportunities\\n\\t\\t\\t\\t\\t\\t\\t\\t\\tand collaborate for remarkable results.\\n\\t\\t\\t\\t\\t\\t\\t\\t\\n\\n\\n\\n\\n\\n\\n\\n\\n\\n\\n\\n\\n\\n\\n\\n\\n\\n\\n\\n\\n\\n\\n\\n\\n\\n\\n Toggle navigation   \\n\\n\\n\\n\\nHome\\nAbout Me\\nProjects\\nCertificates\\nContact\\n\\n\\n\\n\\n\\n\\n\\n\\n\\n\\n\\nAbout Me\\nI hold a Bachelors\\'s degree in Mechanical engineering with 7.54 GPA from RAJIV GANDHI\\n\\t\\t\\t\\t\\t\\t\\tPROUDYOGIKI VISHWAVIDYALAYA, BHOPAL\\n\\t\\t\\t\\t\\tI hold  Google cloud certification in machine learning.\\n\\t\\t\\t\\t\\tMy passion for machine learning and MLOps stems from my\\n\\t\\t\\t\\t\\tcuriosity to unearth hidden patterns within data. I\\n\\t\\t\\t\\t\\tleverage these insights to build and manage machine\\n\\t\\t\\t\\t\\tlearning models that solve complex problems and drive\\n\\t\\t\\t\\t\\treal-world business impact. I thrive in dynamic\\n\\t\\t\\t\\t\\tenvironments where I can continuously learn and\\n\\t\\t\\t\\t\\tapply my analytical skills.\\n\\n\\n\\n\\n\\nI am an Aspiring Machine Learning Engineer with passion\\n\\n\\n\\t\\t\\t\\t\\t\\t\\t\\t\\t\\t\\tDownload Resume\\n\\t\\t\\t\\t\\t\\t\\t\\t\\t\\t\\n\\n\\n\\t\\t\\t\\t\\t\\t\\t\\t\\t\\tðŸ”\\xadIn a recent project, I spearheaded the development of a highly customizable\\n\\t\\t\\t\\t\\t\\t\\t\\t\\t\\tRAG Based OpenAI Chatbot plugin for\\n\\t\\t\\t\\t\\t\\t\\t\\t\\t\\tWordPress, which stands as a testament to my proficiency in AI and software\\n\\t\\t\\t\\t\\t\\t\\t\\t\\t\\tengineering. Through meticulous planning and\\n\\t\\t\\t\\t\\t\\t\\t\\t\\t\\texecution, I optimized user engagement by facilitating personalized interactions\\n\\t\\t\\t\\t\\t\\t\\t\\t\\t\\tand dynamic responses. Leveraging a\\n\\t\\t\\t\\t\\t\\t\\t\\t\\t\\trobust tech stack encompassing FASTAPI, HTML, CSS, PHP, WebSocket, and\\n\\t\\t\\t\\t\\t\\t\\t\\t\\t\\tJavaScript functionalities, I engineered a\\n\\t\\t\\t\\t\\t\\t\\t\\t\\t\\tsolution that not only exceeded client expectations but also showcased my\\n\\t\\t\\t\\t\\t\\t\\t\\t\\t\\tability to tackle complex challenges head-on.\\n\\t\\t\\t\\t\\t\\t\\t\\t\\t\\tThis project not only demonstrates my expertise in AI development but also\\n\\t\\t\\t\\t\\t\\t\\t\\t\\t\\tunderscores my commitment to delivering\\n\\t\\t\\t\\t\\t\\t\\t\\t\\t\\tinnovative solutions that drive tangible results and exceed expectations.\\n\\t\\t\\t\\t\\t\\t\\t\\t\\t\\n\\n\\t\\t\\t\\t\\t\\t\\t\\t\\t\\t\"I\\'ve delved into a captivating array of libraries, each a gateway to unlocking\\n\\t\\t\\t\\t\\t\\t\\t\\t\\t\\tnew dimensions of knowledge and innovation.\"\\n\\t\\t\\t\\t\\t\\t\\t\\t\\t\\n\\nVisulization Lib : Matplotlib | seaborn |\\n\\t\\t\\t\\t\\t\\t\\t\\t\\t\\t\\tplotly \\nDeep learning Framework : TensorFlow |\\n\\t\\t\\t\\t\\t\\t\\t\\t\\t\\t\\tTensorFlow lite | Pytorch \\nML libraries : Scikit-learn | XGBoost \\nData Science Fundamentals : Data Structures\\n\\t\\t\\t\\t\\t\\t\\t\\t\\t\\t\\t| NumPy | SQL |Extract, Transform, Load (ETL) \\nMLOps Tools & Technologies : ML Pipelines on\\n\\t\\t\\t\\t\\t\\t\\t\\t\\t\\t\\tGoogle Cloud | Apache Spark | Feature Engineering |\\n\\t\\t\\t\\t\\t\\t\\t\\t\\t\\t\\tApache Airflow | TFX (TensorFlow Extended) | Kubeflow | Kubernetes | Docker\\n\\t\\t\\t\\t\\t\\t\\t\\t\\t\\t\\t| Vertex AI | MLOps concepts | MLflow \\nCloud Platform : AWS (Amazon Web Services) |\\n\\t\\t\\t\\t\\t\\t\\t\\t\\t\\t\\tGCP (Google Cloud Platform) | Azure (Microsoft Azure) | \\nWeb Framework : Streamlit | FastAPI | Flask\\n\\t\\t\\t\\t\\t\\t\\t\\t\\t\\t\\t| HTML | CSS \\nDomains : NLP (Natural Language Processing)\\n\\t\\t\\t\\t\\t\\t\\t\\t\\t\\t\\t| Computer Vision | Time Series Analysis | GAN (Generative Adversarial\\n\\t\\t\\t\\t\\t\\t\\t\\t\\t\\t\\tNetworks)\\n\\t\\t\\t\\t\\t\\t\\t\\t\\t\\t\\t| Large Language Models (LLM) | RESTful API | TensorFlow Serving | \\n\\n\\n \\n\\nPython\\n\\n\\n \\n\\n\\n\\nTensorflow\\n\\n\\n \\n\\n\\n\\n\\nScikit-learn\\n\\n\\n \\n\\n\\n\\n\\nCloud Platform(AWS , GCP , Azure) \\n\\n\\n \\n\\n\\n\\n\\nSQL\\n\\n\\n \\n\\n\\n\\n\\nModel Deployment\\n\\n\\n \\n\\n\\n\\n\\nContinuous Integration/Continuous Deployment\\n\\t\\t\\t\\t\\t\\t\\t\\t\\t\\t\\t\\t\\t(CI/CD)\\n\\n\\n \\n\\n\\n\\n\\nData Visualization\\n\\n\\n \\n\\n\\n\\n\\nCloud Computing\\n\\n\\n \\n\\n\\n\\n\\nFASTAPI\\n\\n\\n \\n\\n\\n\\n\\nHTML & CSS\\n\\n\\n \\n\\n\\n\\n\\njavascript\\n\\n\\n \\n\\n\\n\\n\\njinja', metadata={'source': 'https://iampathak2702.github.io/Resume/', 'title': 'Resume Ved Prakash Pathak', 'language': 'No language found.'})]"
      ]
     },
     "execution_count": 30,
     "metadata": {},
     "output_type": "execute_result"
    }
   ],
   "source": [
    "chat_history = [\n",
    "    HumanMessage(content=\"Who are we talking about?\"),\n",
    "    AIMessage(content=\"Yes\")\n",
    "]\n",
    "\n",
    "retrievel_chain.invoke({\n",
    "    \"chat_history\":chat_history,\n",
    "    \"input\":\"Tell me more about it!\"\n",
    "})"
   ]
  },
  {
   "cell_type": "code",
   "execution_count": 31,
   "metadata": {},
   "outputs": [],
   "source": [
    "prompt = ChatPromptTemplate.from_messages([\n",
    "    (\"system\",\" Answer the user's content based on the below context:\\n\\n{context}\"),\n",
    "    MessagesPlaceholder(variable_name=\"chat_history\"),\n",
    "    (\"user\",\"{input}\")\n",
    "])\n",
    "\n",
    "document_chain = create_stuff_documents_chain(llm,prompt)\n",
    "\n",
    "retrieval_chain = create_retrieval_chain(retrievel_chain,document_chain)\n"
   ]
  },
  {
   "cell_type": "code",
   "execution_count": 35,
   "metadata": {},
   "outputs": [],
   "source": [
    "response = retrieval_chain.invoke({\n",
    "    'chat_history': chat_history,\n",
    "    'input': \"Who are we talking about?\"\n",
    "})\n"
   ]
  },
  {
   "cell_type": "code",
   "execution_count": 36,
   "metadata": {},
   "outputs": [
    {
     "name": "stdout",
     "output_type": "stream",
     "text": [
      "We are talking about Ved Prakash Pathak, a Machine Learning Engineer and AI Developer with expertise in Python, NLP, Computer Vision, and Generative AI. He has a strong background in machine learning methodologies and MLOps practices. Ved is actively seeking opportunities to leverage his skills and contribute to innovative projects in the technology sector.\n"
     ]
    }
   ],
   "source": [
    "print(response[\"answer\"])"
   ]
  },
  {
   "cell_type": "code",
   "execution_count": 38,
   "metadata": {},
   "outputs": [],
   "source": [
    "def chat_bot(api_key: str, url: str, user_input: str) -> str:\n",
    "    \"\"\"\n",
    "    Generates a response based on the user input using a combination of history-aware retrieval and document analysis.\n",
    "\n",
    "    Args:\n",
    "        api_key (str): The API key for accessing OpenAI services.\n",
    "        url (str): URL for accessing relevant documents.\n",
    "        user_input (str): User's input to generate a response.\n",
    "\n",
    "    Returns:\n",
    "        str: Response generated based on the user input and context.\n",
    "    \"\"\"\n",
    "\n",
    "    # Initialize ChatOpenAI instance\n",
    "    chat_ai = ChatOpenAI(api_key=api_key)\n",
    "    \n",
    "    # Load documents from the web\n",
    "    web_loader = WebBaseLoader(url)\n",
    "    documents = web_loader.load()\n",
    "    \n",
    "    # Generate embeddings for the documents\n",
    "    embeddings = OpenAIEmbeddings()\n",
    "    text_splitter = RecursiveCharacterTextSplitter()\n",
    "    split_documents = text_splitter.split_documents(documents)\n",
    "    vector_store = FAISS.from_documents(documents=split_documents, embedding=embeddings)\n",
    "    retriever = vector_store.as_retriever()\n",
    "    \n",
    "    # Define prompt for history-aware retrieval\n",
    "    prompt_retrieval = ChatPromptTemplate.from_messages([\n",
    "        MessagesPlaceholder(variable_name=\"chat_history\"),\n",
    "        (\"user\", \"{input}\"),\n",
    "        (\"user\", \"Based on the conversation above, generate a search query to retrieve relevant information.\")\n",
    "    ])\n",
    "    \n",
    "    # Create history-aware retriever\n",
    "    history_aware_retriever = create_history_aware_retriever(chat_ai, retriever=retriever, prompt=prompt_retrieval)\n",
    "    \n",
    "    # Initialize chat history\n",
    "    chat_history = [\n",
    "        HumanMessage(content=\"Who are we talking about?\"),\n",
    "        AIMessage(content=\"Yes\")\n",
    "    ]\n",
    "    \n",
    "    # Define prompt for document analysis\n",
    "    prompt_analysis = ChatPromptTemplate.from_messages([\n",
    "        (\"system\", \"Answer the user's content based on the context below:\\n\\n{context}\"),\n",
    "        MessagesPlaceholder(variable_name=\"chat_history\"),\n",
    "        (\"user\", \"{input}\")\n",
    "    ])\n",
    "    \n",
    "    # Create document analysis chain\n",
    "    document_analysis_chain = create_stuff_documents_chain(chat_ai, prompt_analysis)\n",
    "    \n",
    "    # Create retrieval chain\n",
    "    retrieval_chain = create_retrieval_chain(history_aware_retriever, document_analysis_chain)\n",
    "    \n",
    "    # Invoke retrieval chain to generate response\n",
    "    response = retrieval_chain.invoke({\n",
    "        'chat_history': chat_history,\n",
    "        'input': f\"{user_input}\"\n",
    "    })\n",
    "    \n",
    "    return response['answer']\n"
   ]
  },
  {
   "cell_type": "code",
   "execution_count": 39,
   "metadata": {},
   "outputs": [],
   "source": [
    "response = chat_bot(api_key=OPENAI_API_KEY , url=\"https://iampathak2702.github.io/Resume/\" , user_input=\"who are we talking about?\")"
   ]
  },
  {
   "cell_type": "code",
   "execution_count": 40,
   "metadata": {},
   "outputs": [
    {
     "data": {
      "text/plain": [
       "'We are talking about Ved Prakash Pathak, a Machine Learning Engineer and AI Developer with expertise in various fields such as NLP, Computer Vision, and Generative AI. He has a strong background in Python and is actively seeking opportunities in the domains of Machine Learning and AI development. Ved Prakash Pathak is driven by curiosity, innovation, and a pursuit of excellence in the technology sector.'"
      ]
     },
     "execution_count": 40,
     "metadata": {},
     "output_type": "execute_result"
    }
   ],
   "source": [
    "response"
   ]
  },
  {
   "cell_type": "code",
   "execution_count": null,
   "metadata": {},
   "outputs": [],
   "source": []
  }
 ],
 "metadata": {
  "kernelspec": {
   "display_name": "Python 3 (ipykernel)",
   "language": "python",
   "name": "python3"
  },
  "language_info": {
   "codemirror_mode": {
    "name": "ipython",
    "version": 3
   },
   "file_extension": ".py",
   "mimetype": "text/x-python",
   "name": "python",
   "nbconvert_exporter": "python",
   "pygments_lexer": "ipython3",
   "version": "3.12.3"
  }
 },
 "nbformat": 4,
 "nbformat_minor": 2
}
